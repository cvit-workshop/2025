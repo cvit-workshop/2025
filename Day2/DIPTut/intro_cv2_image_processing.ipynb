{
  "cells": [
    {
      "cell_type": "markdown",
      "metadata": {
        "id": "jaeUFY_tN84Z"
      },
      "source": [
        "# Introduction to CV2 and Image Processing"
      ]
    },
    {
      "cell_type": "markdown",
      "metadata": {
        "id": "8yLYC8fLURKI"
      },
      "source": [
        "## Basic Setup"
      ]
    },
    {
      "cell_type": "code",
      "execution_count": null,
      "metadata": {
        "id": "uhOuIXa8VP6C"
      },
      "outputs": [],
      "source": [
        "# Importing basic libraries\n",
        "import numpy as np\n",
        "import cv2\n",
        "import matplotlib.pyplot as plt\n",
        "import os\n",
        "\n",
        "IMAGES_DIR = \"images\""
      ]
    },
    {
      "cell_type": "markdown",
      "metadata": {
        "id": "Havb8_KTOWXx"
      },
      "source": [
        "## OpenCV\n",
        "\n",
        "### Introduction\n",
        "OpenCV (Open Source Computer Vision Library) is an open source computer vision and machine learning software library. OpenCV was built to provide a common infrastructure for computer vision applications and to accelerate the use of machine perception in the commercial products.\n",
        "[https://opencv.org/about/]\n",
        "\n",
        "<img src=\"https://upload.wikimedia.org/wikipedia/commons/3/32/OpenCV_Logo_with_text_svg_version.svg\" alt=\"opencv logo\" width=\"300\"/>\n",
        "\n",
        "### Basic usage\n",
        "- opening images using cv2 and plotting with plt\n",
        "- converting from BGR to RGB\n",
        "- converting to Grayscale (using cv2)\n",
        "- converting to Grayscale (manually)"
      ]
    },
    {
      "cell_type": "markdown",
      "metadata": {
        "id": "LyCKJuBOPzAm"
      },
      "source": [
        "### Opening images using OpenCV\n",
        "1. Open any image from the `images` directory and print the python datatype of the image read and print the image size, also print the image variable"
      ]
    },
    {
      "cell_type": "code",
      "execution_count": null,
      "metadata": {
        "id": "7mjASqDlOL1a"
      },
      "outputs": [],
      "source": [
        "# Write your solution here"
      ]
    },
    {
      "cell_type": "code",
      "execution_count": null,
      "metadata": {
        "colab": {
          "base_uri": "https://localhost:8080/",
          "height": 504
        },
        "collapsed": true,
        "id": "MnJf5-ghS0CY",
        "outputId": "a85fd6c1-6431-4f00-c060-983107abbf56"
      },
      "outputs": [],
      "source": [
        "#@title Solution\n",
        "\n",
        "img_path = os.path.join(IMAGES_DIR, \"lena.png\")\n",
        "print(img_path, os.path.exists(img_path))\n",
        "\n",
        "img = cv2.imread(img_path)\n",
        "print(f\"Type of cv2 read img: {type(img)}\")\n",
        "print(f\"Shape of img: {img.shape}\")\n",
        "\n",
        "plt.imshow(img)"
      ]
    },
    {
      "cell_type": "markdown",
      "metadata": {
        "id": "ezVYwBczOm1W"
      },
      "source": [
        "### Converting from BGR to RGB\n",
        "Do you see anything off in the image displayed previously. Now try converting the image to RGB and then display it"
      ]
    },
    {
      "cell_type": "code",
      "execution_count": null,
      "metadata": {
        "id": "ycyR9XzdP9pT"
      },
      "outputs": [],
      "source": [
        "# Write your solution here"
      ]
    },
    {
      "cell_type": "code",
      "execution_count": null,
      "metadata": {
        "colab": {
          "base_uri": "https://localhost:8080/",
          "height": 452
        },
        "id": "8U1EErXzWQpM",
        "outputId": "6695f696-9612-444f-91d9-3e5c46f000b3"
      },
      "outputs": [],
      "source": [
        "#@title Solution\n",
        "\n",
        "img_path = os.path.join(IMAGES_DIR, \"lena.png\")\n",
        "img = cv2.imread(img_path)\n",
        "img_rgb = cv2.cvtColor(img, cv2.COLOR_BGR2RGB)\n",
        "\n",
        "plt.imshow(img_rgb)"
      ]
    },
    {
      "cell_type": "markdown",
      "metadata": {
        "id": "jp63xbvPP-1S"
      },
      "source": [
        "### Converting to Grayscale (using OpenCV)\n",
        "Now convert the image to grayscale using cv2 display it"
      ]
    },
    {
      "cell_type": "code",
      "execution_count": null,
      "metadata": {
        "id": "0FuOkaV6QGAS"
      },
      "outputs": [],
      "source": [
        "# Write your solution here"
      ]
    },
    {
      "cell_type": "code",
      "execution_count": null,
      "metadata": {
        "colab": {
          "base_uri": "https://localhost:8080/",
          "height": 487
        },
        "id": "TV9Bm9gZY5OE",
        "outputId": "e2606b80-984c-4d7e-edbf-1c401fcf8e50"
      },
      "outputs": [],
      "source": [
        "#@title Solution\n",
        "\n",
        "img_path = os.path.join(IMAGES_DIR, \"lena.png\")\n",
        "img = cv2.imread(img_path)\n",
        "print(f\"Shape of original image: {img.shape}\")\n",
        "img_gray = cv2.cvtColor(img, cv2.COLOR_BGR2GRAY)\n",
        "print(f\"shape of gray image : {img_gray.shape}\")\n",
        "\n",
        "# By default matplotlib assumes 3 channels (RGB) of an image\n",
        "# So you need it change the colormap to gray to display grayscale images\n",
        "plt.imshow(img_gray, cmap='gray')"
      ]
    },
    {
      "cell_type": "markdown",
      "metadata": {
        "id": "xDg_l458QJib"
      },
      "source": [
        "### Converting to Grayscale (manually)\n",
        "Now convert the image to grayscale without using CV2."
      ]
    },
    {
      "cell_type": "code",
      "execution_count": null,
      "metadata": {},
      "outputs": [],
      "source": [
        "# Write your solution here"
      ]
    },
    {
      "cell_type": "code",
      "execution_count": null,
      "metadata": {
        "colab": {
          "base_uri": "https://localhost:8080/",
          "height": 853
        },
        "id": "ImVnim3LQNs_",
        "outputId": "3e099ba5-b95c-4c9e-ee41-6b84a4c95823"
      },
      "outputs": [],
      "source": [
        "#@title Solution\n",
        "\n",
        "img_path = os.path.join(IMAGES_DIR, \"leaf.jpg\")\n",
        "img = cv2.imread(img_path)\n",
        "img = cv2.cvtColor(img, cv2.COLOR_BGR2RGB)\n",
        "\n",
        "# Mean gray conversion\n",
        "img_gray_mean = img[:, :, 0]/3 + img[:, :, 1]/3 + img[:, :, 2]/3\n",
        "img_gray_mean = img_gray_mean.astype(np.int32).clip(0, 255)\n",
        "plt.imshow(img_gray_mean, cmap='gray')\n",
        "plt.show()\n",
        "\n",
        "# More color accurate grayscaling for humans\n",
        "img_gray = 0.299 * img[:, :, 0] + 0.587 * img[:, :, 1] + 0.114 * img[:, :, 2]\n",
        "img_gray = img_gray.astype(np.int32).clip(0, 255)\n",
        "plt.imshow(img_gray, cmap='gray')\n",
        "plt.show()\n"
      ]
    },
    {
      "cell_type": "markdown",
      "metadata": {
        "id": "Hnx0UqD12ByO"
      },
      "source": [
        "## Basic Image Processing\n"
      ]
    },
    {
      "cell_type": "markdown",
      "metadata": {
        "id": "5PPNCi0K_yTQ"
      },
      "source": [
        "### Image Histograms\n",
        "Construct a frequency histogram for each color channel of `bell.jpeg`. You can use `plt.bar` for plotting the histogram"
      ]
    },
    {
      "cell_type": "code",
      "execution_count": null,
      "metadata": {
        "id": "HcWVMhxTArGZ"
      },
      "outputs": [],
      "source": [
        "# Write your solution here"
      ]
    },
    {
      "cell_type": "code",
      "execution_count": null,
      "metadata": {
        "colab": {
          "base_uri": "https://localhost:8080/",
          "height": 895
        },
        "id": "_NLpgMaKAtOU",
        "outputId": "d9e6de76-7d7d-44dc-b44f-eeab20fba595"
      },
      "outputs": [],
      "source": [
        "#@title Solution\n",
        "\n",
        "img = cv2.imread(os.path.join(IMAGES_DIR, \"bell.jpeg\"))\n",
        "img_gray = cv2.cvtColor(img, cv2.COLOR_BGR2GRAY)\n",
        "img = cv2.cvtColor(img, cv2.COLOR_BGR2RGB)\n",
        "\n",
        "print(img.shape)\n",
        "print(f\"min value : {np.min(img)}, max_value = {np.max(img)}\")\n",
        "\n",
        "# histogram for Red channel\n",
        "red_freq = np.bincount(img[:, :, 0].flatten())\n",
        "print(red_freq.shape)\n",
        "\n",
        "plt.bar(list(range(256)), red_freq, color='red', label='red channel histogram')\n",
        "\n",
        "# histogram for Green channel\n",
        "green_freq = np.bincount(img[:, :, 1].flatten())\n",
        "plt.bar(list(range(256)), green_freq, color='green', label='green channel histogram')\n",
        "\n",
        "# histogram for Blue channel\n",
        "blue_freq = np.bincount(img[:, :, 2].flatten())\n",
        "plt.bar(list(range(256)), blue_freq, color='blue', label='blue channel histogram')\n",
        "\n",
        "plt.legend()\n",
        "plt.show()\n",
        "\n",
        "# histogram for Grayscale Image\n",
        "gray_freq = np.bincount(img_gray.flatten())\n",
        "plt.bar(list(range(256)), gray_freq, color='black', label='Gray Channel Histogram')\n",
        "plt.legend()\n",
        "plt.show()"
      ]
    },
    {
      "cell_type": "markdown",
      "metadata": {
        "id": "GpNTHrsm0rMn"
      },
      "source": [
        "### Thresholding\n",
        "Try binary thresholding the `numbers.png` at different values to see what happens. Can you find the missing number using thresholding ?\n",
        "\n",
        "Hint : Plot the histogram for all the non-zero values\n",
        "\n",
        "**Homework**: Perform thresholding on `sudoko.jpg` and find an apt threshold for it."
      ]
    },
    {
      "cell_type": "code",
      "execution_count": null,
      "metadata": {
        "id": "KjBu0PMw2mhq"
      },
      "outputs": [],
      "source": [
        "# Write your solution here"
      ]
    },
    {
      "cell_type": "code",
      "execution_count": null,
      "metadata": {
        "cellView": "form",
        "id": "glahCGXf0v6-"
      },
      "outputs": [],
      "source": [
        "#@title Solution\n",
        "img = cv2.imread(os.path.join(IMAGES_DIR, \"numbers.png\"))\n",
        "img = cv2.cvtColor(img, cv2.COLOR_BGR2GRAY)\n",
        "\n",
        "# Plotting histogram of non-zero values\n",
        "img_nonzero = img[img > 0]\n",
        "hist, bins = np.histogram(img_nonzero, bins=256, range=(0, 255))\n",
        "plt.bar(bins[:-1], hist)\n",
        "plt.show()\n",
        "\n",
        "# Thresholding at a value\n",
        "thresh_value = 180\n",
        "img_thresh = np.where((img >= thresh_value), 255, 0)\n",
        "\n",
        "plt.imshow(img_thresh, cmap='gray')\n",
        "plt.show()\n"
      ]
    },
    {
      "cell_type": "markdown",
      "metadata": {
        "id": "KdIlDaqx4HR5"
      },
      "source": [
        "### Chroma Keying\n",
        "**Take `fg.jpg` foreground image and put it on `bg.jpg`**.\n",
        "\n",
        "Can you vectorize the whole operation to make it fast ?"
      ]
    },
    {
      "cell_type": "code",
      "execution_count": null,
      "metadata": {
        "id": "y94SK4pn4ruo"
      },
      "outputs": [],
      "source": [
        "# Write your solution here"
      ]
    },
    {
      "cell_type": "markdown",
      "metadata": {
        "id": "C8fAvGcO5T4l"
      },
      "source": [
        "### Emboss (3D Effect)\n",
        "\n",
        "This is how the input `logo.png` looks like <br/>\n",
        "![Input Logo](images/logo.png)\n",
        "\n",
        "\n",
        "Can you convert it to something which looks like `logoemb.png` <br/>\n",
        "![Embossed Logo](images/logoemb.png)\n",
        "\n"
      ]
    },
    {
      "cell_type": "code",
      "execution_count": null,
      "metadata": {
        "id": "fAjlIPbc5b2U"
      },
      "outputs": [],
      "source": [
        "# Write your solution here"
      ]
    },
    {
      "cell_type": "markdown",
      "metadata": {
        "id": "ejve-gv4NI3I"
      },
      "source": [
        "### Barbie Needs YOU, KEN!!!\n",
        "This is how Barbie looks like without Ken (`barbie_flat.png`): <br/>\n",
        "<img src=\"images/barbie_flat.png\" alt=\"Barbie Flat\" width=\"600\"/>\n",
        "<br/>\n",
        "\n",
        "This is how you have to make Barbie look like (`barbie_corrected.png`) <br/>\n",
        "<img src=\"images/barbie_corrected.png\" alt=\"Barbie Corrected\" width=\"600\"/>"
      ]
    },
    {
      "cell_type": "code",
      "execution_count": null,
      "metadata": {
        "id": "yHO1mI1_NKz3"
      },
      "outputs": [],
      "source": [
        "# Write your solution here"
      ]
    },
    {
      "cell_type": "markdown",
      "metadata": {
        "id": "mhygrYZWr4tP"
      },
      "source": [
        "### Retro Effect\n",
        "\n",
        "Take `cycle.png` image: <br/>\n",
        "<img src=\"images/cycle.png\" alt=\"cycle\" width=\"600\"/>\n",
        "<br/>\n",
        "\n",
        "Add a retro effect to it <br/>\n",
        "<img src=\"images/cycle_retro.png\" alt=\"cycle retro\" width=\"600\"/>"
      ]
    },
    {
      "cell_type": "code",
      "execution_count": null,
      "metadata": {
        "id": "8z6JfxwgsDab"
      },
      "outputs": [],
      "source": [
        "# Write your solution here"
      ]
    }
  ],
  "metadata": {
    "colab": {
      "collapsed_sections": [
        "Havb8_KTOWXx",
        "LyCKJuBOPzAm",
        "ezVYwBczOm1W",
        "jp63xbvPP-1S",
        "xDg_l458QJib",
        "Hnx0UqD12ByO",
        "GpNTHrsm0rMn",
        "KdIlDaqx4HR5",
        "C8fAvGcO5T4l",
        "ejve-gv4NI3I",
        "mhygrYZWr4tP"
      ],
      "provenance": []
    },
    "kernelspec": {
      "display_name": "Python 3",
      "name": "python3"
    },
    "language_info": {
      "name": "python"
    }
  },
  "nbformat": 4,
  "nbformat_minor": 0
}
